{
 "cells": [
  {
   "cell_type": "code",
   "execution_count": 37,
   "id": "d6a62ef9",
   "metadata": {},
   "outputs": [
    {
     "name": "stdout",
     "output_type": "stream",
     "text": [
      "Too low\n"
     ]
    }
   ],
   "source": [
    "#4.1\n",
    "secret = 7\n",
    "guess = 3\n",
    "if guess < secret:\n",
    "    print('Too low')\n",
    "elif guess > secret:\n",
    "    print('Too high')\n",
    "elif guess == secret:\n",
    "    print('Just right')\n",
    "    "
   ]
  },
  {
   "cell_type": "code",
   "execution_count": 36,
   "id": "7e75133b",
   "metadata": {},
   "outputs": [
    {
     "name": "stdout",
     "output_type": "stream",
     "text": [
      "It's a Pumpkin!\n"
     ]
    }
   ],
   "source": [
    "#4.2\n",
    "small = False\n",
    "green = False\n",
    "if small:\n",
    "    if green:\n",
    "        print(\"It's a Pea!\")\n",
    "    else:\n",
    "        print(\"It's a Cherry!\")\n",
    "else:\n",
    "    if green:\n",
    "        print(\"It's a Watermelon!\")\n",
    "    else:\n",
    "        print(\"It's a Pumpkin!\")\n"
   ]
  },
  {
   "cell_type": "code",
   "execution_count": 50,
   "id": "845c81ee",
   "metadata": {},
   "outputs": [
    {
     "name": "stdout",
     "output_type": "stream",
     "text": [
      "3\n",
      "2\n",
      "1\n",
      "0\n"
     ]
    }
   ],
   "source": [
    "#6.1\n",
    "for x in range(3, -1, -1):\n",
    "    print(x)"
   ]
  },
  {
   "cell_type": "code",
   "execution_count": 69,
   "id": "9d387b0f",
   "metadata": {},
   "outputs": [
    {
     "name": "stdout",
     "output_type": "stream",
     "text": [
      "too low\n",
      "too low\n",
      "too low\n",
      "too low\n",
      "too low\n",
      "too low\n",
      "found it!\n"
     ]
    }
   ],
   "source": [
    "#6.2\n",
    "guess_me = 7\n",
    "number = 1\n",
    "while True:\n",
    "    if number < guess_me:\n",
    "        print('too low')\n",
    "        number += 1\n",
    "    elif number == guess_me:\n",
    "        print('found it!')\n",
    "        break\n",
    "    elif number > guess_me:\n",
    "        print('oops')\n",
    "        break"
   ]
  },
  {
   "cell_type": "code",
   "execution_count": 93,
   "id": "7354731b",
   "metadata": {},
   "outputs": [
    {
     "name": "stdout",
     "output_type": "stream",
     "text": [
      "too low\n",
      "too low\n",
      "too low\n",
      "too low\n",
      "too low\n",
      "found it!\n"
     ]
    }
   ],
   "source": [
    "#6.3\n",
    "guess_me = 5\n",
    "for number in range(10):\n",
    "    if number < guess_me:\n",
    "        print('too low')\n",
    "    elif number == guess_me:\n",
    "        print('found it!')\n",
    "        break\n",
    "    elif number > guess_me:\n",
    "        print('oops')\n",
    "        break\n",
    "else:\n",
    "    print('The number is greater than 9')"
   ]
  },
  {
   "cell_type": "code",
   "execution_count": null,
   "id": "ad86fde7",
   "metadata": {},
   "outputs": [],
   "source": []
  }
 ],
 "metadata": {
  "kernelspec": {
   "display_name": "Python 3 (ipykernel)",
   "language": "python",
   "name": "python3"
  },
  "language_info": {
   "codemirror_mode": {
    "name": "ipython",
    "version": 3
   },
   "file_extension": ".py",
   "mimetype": "text/x-python",
   "name": "python",
   "nbconvert_exporter": "python",
   "pygments_lexer": "ipython3",
   "version": "3.9.13"
  }
 },
 "nbformat": 4,
 "nbformat_minor": 5
}
